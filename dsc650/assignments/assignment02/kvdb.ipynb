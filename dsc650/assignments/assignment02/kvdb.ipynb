{
 "cells": [
  {
   "cell_type": "code",
   "execution_count": 1,
   "metadata": {},
   "outputs": [],
   "source": [
    "import json\n",
    "from pathlib import Path\n",
    "import os\n",
    "\n",
    "import pandas as pd\n",
    "import s3fs\n",
    "\n",
    "\n",
    "def read_cluster_csv(file_path, endpoint_url='https://storage.budsc.midwest-datascience.com'):\n",
    "    s3 = s3fs.S3FileSystem(\n",
    "        anon=True,\n",
    "        client_kwargs={\n",
    "            'endpoint_url': endpoint_url\n",
    "        }\n",
    "    )\n",
    "    return pd.read_csv(s3.open(file_path, mode='rb'))\n",
    "\n",
    "current_dir = Path(os.getcwd()).absolute()\n",
    "results_dir = current_dir.joinpath('results')\n",
    "kv_data_dir = results_dir.joinpath('kvdb')\n",
    "kv_data_dir.mkdir(parents=True, exist_ok=True)\n",
    "\n",
    "people_json = kv_data_dir.joinpath('people.json')\n",
    "visited_json = kv_data_dir.joinpath('visited.json')\n",
    "sites_json = kv_data_dir.joinpath('sites.json')\n",
    "measurements_json = kv_data_dir.joinpath('measurements.json')"
   ]
  },
  {
   "cell_type": "code",
   "execution_count": 2,
   "metadata": {},
   "outputs": [],
   "source": [
    "class KVDB(object):\n",
    "    def __init__(self, db_path):\n",
    "        self._db_path = Path(db_path)\n",
    "        self._db = {}\n",
    "        self._load_db()\n",
    "\n",
    "    def _load_db(self):\n",
    "        if self._db_path.exists():\n",
    "            with open(self._db_path) as f:\n",
    "                self._db = json.load(f)\n",
    "\n",
    "    def get_value(self, key):\n",
    "        return self._db.get(key)\n",
    "\n",
    "    def set_value(self, key, value):\n",
    "        self._db[key] = value\n",
    "\n",
    "    def save(self):\n",
    "        with open(self._db_path, 'w') as f:\n",
    "            json.dump(self._db, f, indent=2)"
   ]
  },
  {
   "cell_type": "code",
   "execution_count": 3,
   "metadata": {},
   "outputs": [],
   "source": [
    "# I am going to really try to do this stuff locally. We shall see how it goes.\n",
    "# Changed from read cluster to read csv\n",
    "# I also got the data locally from the data folder\n",
    "\n",
    "# Here I opted to roll with the primary key for my grouping\n",
    "def create_sites_kvdb():\n",
    "    db = KVDB(sites_json)\n",
    "    # df = read_cluster_csv('data/external/tidynomicon/site.csv')\n",
    "    df = pd.read_csv('/home/totennacht/Bellevue/dsc650/data/external/tidynomicon/site.csv')\n",
    "    for site_id, group_df in df.groupby('site_id'):\n",
    "        db.set_value(site_id, group_df.to_dict(orient='records')[0])\n",
    "    db.save()\n",
    "\n",
    "\n",
    "# This one was a bit arbitrary person_id seemed to be their last name but it really should have some kind of\n",
    "# unique value for a primary key. In this case their last names were unique so it will do but if I was building it\n",
    "# I would just give a unique int value here.\n",
    "def create_people_kvdb():\n",
    "    db = KVDB(people_json)\n",
    "    # df = read_cluster_csv('data/external/tidynomicon/person.csv')\n",
    "    df = pd.read_csv('/home/totennacht/Bellevue/dsc650/data/external/tidynomicon/person.csv')\n",
    "    for person_id, group_df in df.groupby('person_id'):\n",
    "        db.set_value(person_id, group_df.to_dict(orient='records')[0])\n",
    "    db.save()\n",
    "\n",
    "# visits has a composite id using visit_id and site_id\n",
    "def create_visits_kvdb():\n",
    "    db = KVDB(visited_json)\n",
    "    # df = read_cluster_csv('data/external/tidynomicon/visited.csv')\n",
    "    df = pd.read_csv('/home/totennacht/Bellevue/dsc650/data/external/tidynomicon/visited.csv')\n",
    "    for key, group_df in df.groupby(['visit_id', 'site_id']):\n",
    "        db.set_value(str(key), group_df.to_dict(orient='records')[0])\n",
    "    db.save()\n",
    "\n",
    "# measurements has composite keys visit_id, person_id, and quantity\n",
    "# this one has no unique primary key so I have to go a different route.\n",
    "# if I group these I lose information because all columns have repeated values\n",
    "# pandas to the rescue!\n",
    "# I could have also split the database by the second comma and turned those into keys.\n",
    "# But pandas handles this idea nicely. I could also build keys using the two foreign keys if I needed to and loop.\n",
    "# This just happened to give me the result I was looking for and was really efficient.\n",
    "def create_measurements_kvdb():\n",
    "    db = KVDB(measurements_json)\n",
    "    df = pd.read_csv('/home/totennacht/Bellevue/dsc650/data/external/tidynomicon/measurements.csv')\n",
    "    #df.to_json(orient='records', path_or_buf='/home/totennacht/Bellevue/dsc650/dsc650/assignments/assignment02/results/kvdb/measurements.json', indent=2)\n",
    "    for key, group_df in df.groupby(['visit_id', 'person_id', 'quantity']):\n",
    "        db.set_value(str(key), group_df.to_dict(orient='records')[0])\n",
    "    db.save()\n",
    "\n"
   ]
  },
  {
   "cell_type": "code",
   "execution_count": 4,
   "metadata": {},
   "outputs": [],
   "source": [
    "# creating the json files\n",
    "create_sites_kvdb()\n",
    "create_people_kvdb()\n",
    "create_visits_kvdb()\n",
    "create_measurements_kvdb()"
   ]
  },
  {
   "cell_type": "code",
   "execution_count": 5,
   "outputs": [
    {
     "data": {
      "text/plain": "                      visit_id person_id quantity reading\n(619, 'dyer', 'rad')       619      dyer      rad    9.82\n(619, 'dyer', 'sal')       619      dyer      sal    0.13\n(622, 'dyer', 'rad')       622      dyer      rad     7.8\n(622, 'dyer', 'sal')       622      dyer      sal    0.09\n(734, 'lake', 'sal')       734      lake      sal    0.05\n(734, 'pb', 'rad')         734        pb      rad    8.41\n(734, 'pb', 'temp')        734        pb     temp   -21.5\n(735, 'pb', 'rad')         735        pb      rad    7.22\n(735, 'pb', 'sal')         735        pb      sal    0.06\n(735, 'pb', 'temp')        735        pb     temp   -26.0\n(751, 'pb', 'rad')         751        pb      rad    4.35\n(751, 'pb', 'temp')        751        pb     temp   -18.5\n(752, 'lake', 'rad')       752      lake      rad    2.19\n(752, 'lake', 'sal')       752      lake      sal    0.09\n(752, 'lake', 'temp')      752      lake     temp   -16.0\n(752, 'roe', 'sal')        752       roe      sal    41.6\n(837, 'lake', 'rad')       837      lake      rad    1.46\n(837, 'lake', 'sal')       837      lake      sal    0.21\n(837, 'roe', 'sal')        837       roe      sal    22.5\n(844, 'roe', 'rad')        844       roe      rad   11.25",
      "text/html": "<div>\n<style scoped>\n    .dataframe tbody tr th:only-of-type {\n        vertical-align: middle;\n    }\n\n    .dataframe tbody tr th {\n        vertical-align: top;\n    }\n\n    .dataframe thead th {\n        text-align: right;\n    }\n</style>\n<table border=\"1\" class=\"dataframe\">\n  <thead>\n    <tr style=\"text-align: right;\">\n      <th></th>\n      <th>visit_id</th>\n      <th>person_id</th>\n      <th>quantity</th>\n      <th>reading</th>\n    </tr>\n  </thead>\n  <tbody>\n    <tr>\n      <th>(619, 'dyer', 'rad')</th>\n      <td>619</td>\n      <td>dyer</td>\n      <td>rad</td>\n      <td>9.82</td>\n    </tr>\n    <tr>\n      <th>(619, 'dyer', 'sal')</th>\n      <td>619</td>\n      <td>dyer</td>\n      <td>sal</td>\n      <td>0.13</td>\n    </tr>\n    <tr>\n      <th>(622, 'dyer', 'rad')</th>\n      <td>622</td>\n      <td>dyer</td>\n      <td>rad</td>\n      <td>7.8</td>\n    </tr>\n    <tr>\n      <th>(622, 'dyer', 'sal')</th>\n      <td>622</td>\n      <td>dyer</td>\n      <td>sal</td>\n      <td>0.09</td>\n    </tr>\n    <tr>\n      <th>(734, 'lake', 'sal')</th>\n      <td>734</td>\n      <td>lake</td>\n      <td>sal</td>\n      <td>0.05</td>\n    </tr>\n    <tr>\n      <th>(734, 'pb', 'rad')</th>\n      <td>734</td>\n      <td>pb</td>\n      <td>rad</td>\n      <td>8.41</td>\n    </tr>\n    <tr>\n      <th>(734, 'pb', 'temp')</th>\n      <td>734</td>\n      <td>pb</td>\n      <td>temp</td>\n      <td>-21.5</td>\n    </tr>\n    <tr>\n      <th>(735, 'pb', 'rad')</th>\n      <td>735</td>\n      <td>pb</td>\n      <td>rad</td>\n      <td>7.22</td>\n    </tr>\n    <tr>\n      <th>(735, 'pb', 'sal')</th>\n      <td>735</td>\n      <td>pb</td>\n      <td>sal</td>\n      <td>0.06</td>\n    </tr>\n    <tr>\n      <th>(735, 'pb', 'temp')</th>\n      <td>735</td>\n      <td>pb</td>\n      <td>temp</td>\n      <td>-26.0</td>\n    </tr>\n    <tr>\n      <th>(751, 'pb', 'rad')</th>\n      <td>751</td>\n      <td>pb</td>\n      <td>rad</td>\n      <td>4.35</td>\n    </tr>\n    <tr>\n      <th>(751, 'pb', 'temp')</th>\n      <td>751</td>\n      <td>pb</td>\n      <td>temp</td>\n      <td>-18.5</td>\n    </tr>\n    <tr>\n      <th>(752, 'lake', 'rad')</th>\n      <td>752</td>\n      <td>lake</td>\n      <td>rad</td>\n      <td>2.19</td>\n    </tr>\n    <tr>\n      <th>(752, 'lake', 'sal')</th>\n      <td>752</td>\n      <td>lake</td>\n      <td>sal</td>\n      <td>0.09</td>\n    </tr>\n    <tr>\n      <th>(752, 'lake', 'temp')</th>\n      <td>752</td>\n      <td>lake</td>\n      <td>temp</td>\n      <td>-16.0</td>\n    </tr>\n    <tr>\n      <th>(752, 'roe', 'sal')</th>\n      <td>752</td>\n      <td>roe</td>\n      <td>sal</td>\n      <td>41.6</td>\n    </tr>\n    <tr>\n      <th>(837, 'lake', 'rad')</th>\n      <td>837</td>\n      <td>lake</td>\n      <td>rad</td>\n      <td>1.46</td>\n    </tr>\n    <tr>\n      <th>(837, 'lake', 'sal')</th>\n      <td>837</td>\n      <td>lake</td>\n      <td>sal</td>\n      <td>0.21</td>\n    </tr>\n    <tr>\n      <th>(837, 'roe', 'sal')</th>\n      <td>837</td>\n      <td>roe</td>\n      <td>sal</td>\n      <td>22.5</td>\n    </tr>\n    <tr>\n      <th>(844, 'roe', 'rad')</th>\n      <td>844</td>\n      <td>roe</td>\n      <td>rad</td>\n      <td>11.25</td>\n    </tr>\n  </tbody>\n</table>\n</div>"
     },
     "execution_count": 5,
     "metadata": {},
     "output_type": "execute_result"
    }
   ],
   "source": [
    "my_measurements = pd.read_json('/home/totennacht/Bellevue/dsc650/dsc650/assignments/assignment02/results/kvdb/measurements.json')\n",
    "my_measurements.head(10).T"
   ],
   "metadata": {
    "collapsed": false,
    "pycharm": {
     "name": "#%%\n"
    }
   }
  },
  {
   "cell_type": "code",
   "execution_count": 6,
   "outputs": [
    {
     "data": {
      "text/plain": "               visit_id site_id  visit_date\n(619, 'DR-1')       619    DR-1  1927-02-08\n(622, 'DR-1')       622    DR-1  1927-02-10\n(734, 'DR-3')       734    DR-3  1930-01-07\n(735, 'DR-3')       735    DR-3  1930-01-12\n(751, 'DR-3')       751    DR-3  1930-02-26\n(752, 'DR-3')       752    DR-3        None\n(837, 'MSK-4')      837   MSK-4  1932-01-14\n(844, 'DR-1')       844    DR-1  1932-03-22",
      "text/html": "<div>\n<style scoped>\n    .dataframe tbody tr th:only-of-type {\n        vertical-align: middle;\n    }\n\n    .dataframe tbody tr th {\n        vertical-align: top;\n    }\n\n    .dataframe thead th {\n        text-align: right;\n    }\n</style>\n<table border=\"1\" class=\"dataframe\">\n  <thead>\n    <tr style=\"text-align: right;\">\n      <th></th>\n      <th>visit_id</th>\n      <th>site_id</th>\n      <th>visit_date</th>\n    </tr>\n  </thead>\n  <tbody>\n    <tr>\n      <th>(619, 'DR-1')</th>\n      <td>619</td>\n      <td>DR-1</td>\n      <td>1927-02-08</td>\n    </tr>\n    <tr>\n      <th>(622, 'DR-1')</th>\n      <td>622</td>\n      <td>DR-1</td>\n      <td>1927-02-10</td>\n    </tr>\n    <tr>\n      <th>(734, 'DR-3')</th>\n      <td>734</td>\n      <td>DR-3</td>\n      <td>1930-01-07</td>\n    </tr>\n    <tr>\n      <th>(735, 'DR-3')</th>\n      <td>735</td>\n      <td>DR-3</td>\n      <td>1930-01-12</td>\n    </tr>\n    <tr>\n      <th>(751, 'DR-3')</th>\n      <td>751</td>\n      <td>DR-3</td>\n      <td>1930-02-26</td>\n    </tr>\n    <tr>\n      <th>(752, 'DR-3')</th>\n      <td>752</td>\n      <td>DR-3</td>\n      <td>None</td>\n    </tr>\n    <tr>\n      <th>(837, 'MSK-4')</th>\n      <td>837</td>\n      <td>MSK-4</td>\n      <td>1932-01-14</td>\n    </tr>\n    <tr>\n      <th>(844, 'DR-1')</th>\n      <td>844</td>\n      <td>DR-1</td>\n      <td>1932-03-22</td>\n    </tr>\n  </tbody>\n</table>\n</div>"
     },
     "execution_count": 6,
     "metadata": {},
     "output_type": "execute_result"
    }
   ],
   "source": [
    "my_visits = pd.read_json('/home/totennacht/Bellevue/dsc650/dsc650/assignments/assignment02/results/kvdb/visited.json')\n",
    "# interesting I had to do a transversal to get what I was expecting here. But it looks good.\n",
    "my_visits.head().T\n"
   ],
   "metadata": {
    "collapsed": false,
    "pycharm": {
     "name": "#%%\n"
    }
   }
  }
 ],
 "metadata": {
  "kernelspec": {
   "display_name": "Python 3",
   "language": "python",
   "name": "python3"
  },
  "language_info": {
   "codemirror_mode": {
    "name": "ipython",
    "version": 3
   },
   "file_extension": ".py",
   "mimetype": "text/x-python",
   "name": "python",
   "nbconvert_exporter": "python",
   "pygments_lexer": "ipython3",
   "version": "3.8.3"
  }
 },
 "nbformat": 4,
 "nbformat_minor": 4
}